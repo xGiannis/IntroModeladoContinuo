{
  "cells": [
    {
      "cell_type": "markdown",
      "metadata": {
        "id": "view-in-github",
        "colab_type": "text"
      },
      "source": [
        "<a href=\"https://colab.research.google.com/github/xGiannis/IntroModeladoContinuo/blob/main/Colabs/nb01_Raices.ipynb\" target=\"_parent\"><img src=\"https://colab.research.google.com/assets/colab-badge.svg\" alt=\"Open In Colab\"/></a>"
      ]
    },
    {
      "cell_type": "markdown",
      "source": [
        "> (Última Actualización: 16 de Agosto de 2025)"
      ],
      "metadata": {
        "id": "jeCBwjWxB46j"
      },
      "id": "jeCBwjWxB46j"
    },
    {
      "cell_type": "markdown",
      "source": [
        "# **Introducción al modelado continuo** (*a.k.a.* **Ecuaciones de la física matemática**)\n",
        "## Laboratorio numérico\n",
        "\n",
        "Bienvenidos al laboratorio numérico de la materia *Introducción al modelado continuo*, también conocida como *Ecuaciones de la física matemática*. En este, vamos a ver métodos numéricos para resolver distintos tipos de problemas de manera general, y su relación y aplicación a problemas específicos de la materia, de manera tal de complementar los contenidos de la cursada teórico-práctica.\n"
      ],
      "metadata": {
        "id": "Yvti8mA19G9l"
      },
      "id": "Yvti8mA19G9l"
    },
    {
      "cell_type": "markdown",
      "id": "ee5b1248",
      "metadata": {
        "id": "ee5b1248"
      },
      "source": [
        "# Motivación de este colab\n",
        "<!-- $$\\require{amsmath}$$ -->\n",
        "\n",
        "Recordemos que estamos estudiando **sistemas dinámicos**, con reglas representadas por **ecuaciones diferenciales ordinarias (ODEs)** que describen la evolución temporal de variables continuas.\n",
        "\n",
        "En este marco, es importante recordar:\n",
        "* Nos concentraremos principalmente en **sistemas autónomos**, por lo que las variables no dependen explícitamente del tiempo y su evolución se define a partir de la ecuación $\\dot{x}=dx/dt=f(x)$\n",
        "* $f(x)$ es lo que llamamos un **campo vector**\n",
        "* Definimos como **punto fijo ($x^{*}$)** aquel para el cual se cumple que $\\dot{x}=f(x)=0$\n",
        "* De esta manera, si la condición inicial es $x(0)=x^{*}$, la única evolución temporal posible sería permanecer en ese punto fijo $\\forall t > 0$\n",
        "* Los **puntos fijos** separan regiones en los que el **campo vector** tiene distinto signo\n",
        "* El signo del campo vector define la **dirección del flujo**:\n",
        "    * Si $f(x) > 0$, entonces $\\dot{x} > 0$, por lo que $x$ crece.\n",
        "    * Si $f(x) < 0$, entonces $\\dot{x} < 0$, por lo que $x$ decrece.\n",
        "\n",
        "Entonces, los puntos fijos $x^{*}$, son las raíces del campo vector (donde el campo vector se hace cero) de la forma $\\dot{x}=f(x)=0$. Esto motiva a que estudiemos distintos **métodos numéricos para el cálculo de raíces** de funciones. Pero antes, vamos a hacer una breve introducción acerca de cómo podemos empezar a abordar los temas de la materia usando Python y librerías de Pyhton, como repaso.\n",
        "\n",
        "*Observación: Se trata de un **repaso** de cómo cargar paquetes, manejar variables, graficar, definir funciones, el uso de condicionales y loops, y otras cosas básicas de Python, en el marco de temas de la materia. Si este repaso les resulta trivial porque acostumbran manejar este lenguaje de programación, **hacemos una mirada superficial de esta sección y pasamos a la siguiente**.*\n"
      ]
    },
    {
      "cell_type": "markdown",
      "id": "a92c150c",
      "metadata": {
        "id": "a92c150c"
      },
      "source": [
        "## Campo vector y puntos fijos"
      ]
    },
    {
      "cell_type": "markdown",
      "source": [
        "Supongamos que tenemos el sistema dinámico\n",
        "\n",
        "$\\dot{x}=f(x)=2x-4$"
      ],
      "metadata": {
        "id": "-4COpgeZmxrH"
      },
      "id": "-4COpgeZmxrH"
    },
    {
      "cell_type": "code",
      "source": [
        "# # # Cargamos paquetes estándar para empezar a trabajar\n",
        "import matplotlib.pyplot as plt\n",
        "import matplotlib\n",
        "import numpy as np\n",
        "import scipy as sp"
      ],
      "metadata": {
        "id": "tWaEa9KjmfWv"
      },
      "id": "tWaEa9KjmfWv",
      "execution_count": 1,
      "outputs": []
    },
    {
      "cell_type": "code",
      "execution_count": 2,
      "id": "5673fd74",
      "metadata": {
        "id": "5673fd74"
      },
      "outputs": [],
      "source": [
        "\n",
        "# # # Definimos la función campovectorlineal para el sistema dinámico\n",
        "def campovectorlineal(x):\n",
        "    return 2*x-4"
      ]
    },
    {
      "cell_type": "code",
      "execution_count": 3,
      "id": "6c31aab2",
      "metadata": {
        "id": "6c31aab2"
      },
      "outputs": [],
      "source": [
        "# # # Definimos un dominio en el cual inspeccionamos el campo vector\n",
        "# # # Acá pueden probar distintos rangos de valores discretos\n",
        "x = np.arange(-6, 6, 0.05)\n",
        "y = campovectorlineal(x)"
      ]
    },
    {
      "cell_type": "code",
      "execution_count": 4,
      "id": "87ff2b5a",
      "metadata": {
        "id": "87ff2b5a",
        "outputId": "ab94df27-ab26-4478-9425-9479fe478d0c",
        "colab": {
          "base_uri": "https://localhost:8080/",
          "height": 533
        }
      },
      "outputs": [
        {
          "output_type": "stream",
          "name": "stderr",
          "text": [
            "<>:6: SyntaxWarning: invalid escape sequence '\\d'\n",
            "<>:6: SyntaxWarning: invalid escape sequence '\\d'\n",
            "/tmp/ipython-input-805255888.py:6: SyntaxWarning: invalid escape sequence '\\d'\n",
            "  plt.ylabel('$f(x), \\dot{x}$', fontsize=18)\n"
          ]
        },
        {
          "output_type": "display_data",
          "data": {
            "text/plain": [
              "<Figure size 640x480 with 1 Axes>"
            ],
            "image/png": "[encoded data removed]"
          },
          "metadata": {}
        }
      ],
      "source": [
        "# # # Graficamos el campo vecto en ese dominio\n",
        "plt.vlines(0, ymin=y.min(), ymax=y.max(), colors='k', ls='--', lw=1)\n",
        "plt.hlines(0, xmin=x.min(), xmax=x.max(), colors='k', ls='-', lw=1)\n",
        "plt.plot(x, y)\n",
        "plt.xlabel('$x$', fontsize=18)\n",
        "plt.ylabel('$f(x), \\dot{x}$', fontsize=18)\n",
        "plt.show()"
      ]
    },
    {
      "cell_type": "markdown",
      "source": [
        "Para el caso de un campo vector descrito por una función lineal, sabemos que el comportamiento será monótono (creciente o decreciente dependiendo de la pendiente), y tendrá una única raíz. La raíz del campo vector será el punto fijo del sistema. Debido al comportamiento monótono, la función evaluada en todos los valores menores al punto fijo tendrá un signo, y en todos los valores mayores al punto fijo tendrá otro signo. El ordenamiento de las regiones de cada signo va a depender de la pendiente de la función lineal."
      ],
      "metadata": {
        "id": "UfmcYniInfmZ"
      },
      "id": "UfmcYniInfmZ"
    },
    {
      "cell_type": "markdown",
      "source": [
        "Podríamos estimar a mano la posición de la raíz teniendo en cuenta el cambio de signo de la función"
      ],
      "metadata": {
        "id": "oko1_guLn_0A"
      },
      "id": "oko1_guLn_0A"
    },
    {
      "cell_type": "code",
      "execution_count": 5,
      "id": "696852fd",
      "metadata": {
        "id": "696852fd"
      },
      "outputs": [],
      "source": [
        "if y[0] < 0:\n",
        "    xfijo = x[y < 0][-1] + (x[y > 0][0] - x[y < 0][-1])/2\n",
        "elif y[0] > 0:\n",
        "    xfijo = x[y > 0][-1] + (x[y < 0][0] - x[y > 0][-1])/2"
      ]
    },
    {
      "cell_type": "code",
      "execution_count": 6,
      "id": "515f6cde",
      "metadata": {
        "id": "515f6cde",
        "outputId": "d6d24ec0-12a1-464c-8d01-b5b457d686bc",
        "colab": {
          "base_uri": "https://localhost:8080/",
          "height": 533
        }
      },
      "outputs": [
        {
          "output_type": "stream",
          "name": "stderr",
          "text": [
            "<>:6: SyntaxWarning: invalid escape sequence '\\d'\n",
            "<>:6: SyntaxWarning: invalid escape sequence '\\d'\n",
            "/tmp/ipython-input-2265428057.py:6: SyntaxWarning: invalid escape sequence '\\d'\n",
            "  plt.ylabel('$f(x), \\dot{x}$', fontsize=18)\n"
          ]
        },
        {
          "output_type": "display_data",
          "data": {
            "text/plain": [
              "<Figure size 640x480 with 1 Axes>"
            ],
            "image/png": "[encoded data removed]"
          },
          "metadata": {}
        }
      ],
      "source": [
        "plt.vlines(0, ymin=y.min(), ymax=y.max(), colors='k', ls='--', lw=1)\n",
        "plt.hlines(0, xmin=x.min(), xmax=x.max(), colors='k', ls='-', lw=1)\n",
        "plt.plot(x, y, '-', label='campo vector')\n",
        "plt.plot(xfijo, 0, marker='o', ls='', c='r', label='punto fijo')\n",
        "plt.xlabel('$x$', fontsize=18)\n",
        "plt.ylabel('$f(x), \\dot{x}$', fontsize=18)\n",
        "plt.legend()\n",
        "plt.show()"
      ]
    },
    {
      "cell_type": "markdown",
      "id": "53953afe",
      "metadata": {
        "id": "53953afe"
      },
      "source": [
        "## Estabilidad de puntos fijos\n"
      ]
    },
    {
      "cell_type": "markdown",
      "source": [
        "Supongamos que tenemos el sistema dinámico\n",
        "\n",
        "$\\dot{x}=f(x)=x-x^{3}$"
      ],
      "metadata": {
        "id": "Iv-CQAjVpDEF"
      },
      "id": "Iv-CQAjVpDEF"
    },
    {
      "cell_type": "code",
      "execution_count": 7,
      "id": "088d19f7",
      "metadata": {
        "id": "088d19f7"
      },
      "outputs": [],
      "source": [
        "# # # Definimos la función campovector para el sistema dinámico\n",
        "def campovector(x):\n",
        "    return x-x**3"
      ]
    },
    {
      "cell_type": "code",
      "source": [
        "# # # Definimos el dominio, evaluamos el campo vector, y graficamos\n",
        "# # # Podemos probar con distintos dominios para ver el comportamiento general del campo vector\n",
        "x = np.arange(-1.5, 1.5, 0.01)\n",
        "y = campovector(x)\n",
        "plt.vlines(0, ymin=y.min(), ymax=y.max(), colors='k', ls='--', lw=1)\n",
        "plt.hlines(0, xmin=x.min(), xmax=x.max(), colors='k', ls='-', lw=1)\n",
        "plt.plot(x, y)\n",
        "plt.xlabel('$x$', fontsize=18)\n",
        "plt.ylabel('$f(x), \\dot{x}$', fontsize=18)\n",
        "plt.show()"
      ],
      "metadata": {
        "id": "4Rb48MxGqLYu",
        "outputId": "ce6a2d8c-afdc-4fec-d40e-5d6581199503",
        "colab": {
          "base_uri": "https://localhost:8080/",
          "height": 533
        }
      },
      "id": "4Rb48MxGqLYu",
      "execution_count": 8,
      "outputs": [
        {
          "output_type": "stream",
          "name": "stderr",
          "text": [
            "<>:9: SyntaxWarning: invalid escape sequence '\\d'\n",
            "<>:9: SyntaxWarning: invalid escape sequence '\\d'\n",
            "/tmp/ipython-input-2882220799.py:9: SyntaxWarning: invalid escape sequence '\\d'\n",
            "  plt.ylabel('$f(x), \\dot{x}$', fontsize=18)\n"
          ]
        },
        {
          "output_type": "display_data",
          "data": {
            "text/plain": [
              "<Figure size 640x480 with 1 Axes>"
            ],
            "image/png": "[encoded data removed]"
          },
          "metadata": {}
        }
      ]
    },
    {
      "cell_type": "markdown",
      "source": [
        "Vamos a considerar este ejemplo como introductorio e ilustrativo del uso de Python a temas de la materia, por lo que vamos a obtener los puntos fijos de manera analítica.\n",
        "\n",
        "Reescribir el campo vector de la siguiente manera, de donde se deduce que los puntos fijos son 0, 1, y -1:\n",
        "\n",
        "$\\dot{x}=f(x)=x(1-x^{2})=x(x-1)(x+1)$\n",
        "\n",
        "Para estudiar la estabilidad de estos puntos fijos podemos evaluar la función que describe el campo vector antes y después del punto fijo en un entorno, y de acuerdo al signo que nos describe el flujo podemos determinar su estabilidad.\n",
        "\n",
        "Otra forma, más sistemática, sería derivando el campo vector y estudiando su signo cuando se evalúa en el punto fijo. Notar que esta descripción en definitiva me describe lo mismo, el flujo en un entorno del punto fijo.\n",
        "\n",
        "Podemos obtener analíticamente la derivada del campo vector, lo cual daría la expresión:\n",
        "\n",
        "$f'(x)=1-3x^{2}$\n"
      ],
      "metadata": {
        "id": "yOn5b8fKpHIi"
      },
      "id": "yOn5b8fKpHIi"
    },
    {
      "cell_type": "code",
      "execution_count": 9,
      "id": "bec58de2",
      "metadata": {
        "id": "bec58de2"
      },
      "outputs": [],
      "source": [
        "# # # Hacemos una lista con los puntos fijos obtenidos a mano\n",
        "puntosfijos = [-1, 0, 1]\n",
        "# # # Definimos la función que describe la derivada del campo vector\n",
        "def campovectorprima(x):\n",
        "    return 1-3*x**2"
      ]
    },
    {
      "cell_type": "code",
      "execution_count": 10,
      "id": "e490a282",
      "metadata": {
        "id": "e490a282"
      },
      "outputs": [],
      "source": [
        "# # # Definimos nuevas variables que nos darán información de la pendiente en un entorno del punto fijo,\n",
        "# # # y del signo de la derivada del campo vector evaluada en el punto fijo.\n",
        "# # # En este caso, elegimos por convención que la variable estabilidad sea 1 (0) cuando la derivada es menor (mayor) a cero\n",
        "pendientes = []\n",
        "estabilidad = []\n",
        "for p in puntosfijos:\n",
        "    pendientes.append(campovectorprima(p))\n",
        "    estabilidad.append(int(campovectorprima(p) < 0))\n",
        "ordenadas = -np.array(pendientes)*np.array(puntosfijos)"
      ]
    },
    {
      "cell_type": "code",
      "execution_count": 11,
      "id": "14b1bb2c",
      "metadata": {
        "id": "14b1bb2c",
        "outputId": "7a9e022a-b4c8-4751-89da-f25d4b994c40",
        "colab": {
          "base_uri": "https://localhost:8080/",
          "height": 533
        }
      },
      "outputs": [
        {
          "output_type": "stream",
          "name": "stderr",
          "text": [
            "<>:7: SyntaxWarning: invalid escape sequence '\\d'\n",
            "<>:7: SyntaxWarning: invalid escape sequence '\\d'\n",
            "/tmp/ipython-input-2164214422.py:7: SyntaxWarning: invalid escape sequence '\\d'\n",
            "  plt.ylabel('$f(x), \\dot{x}$', fontsize=18)\n"
          ]
        },
        {
          "output_type": "display_data",
          "data": {
            "text/plain": [
              "<Figure size 640x480 with 1 Axes>"
            ],
            "image/png": "[encoded data removed]"
          },
          "metadata": {}
        }
      ],
      "source": [
        "markerfcolors = ['w', 'r']\n",
        "markerecolors = ['r', 'r']\n",
        "plt.vlines(0, ymin=y.min(), ymax=y.max(), colors='k', ls='--', lw=1)\n",
        "plt.hlines(0, xmin=x.min(), xmax=x.max(), colors='k', ls='-', lw=1)\n",
        "plt.plot(x, y)\n",
        "plt.xlabel('$x$', fontsize=18)\n",
        "plt.ylabel('$f(x), \\dot{x}$', fontsize=18)\n",
        "for p in np.arange(len(puntosfijos)):\n",
        "    epsilon = 0.1\n",
        "    n = 10\n",
        "    x_tmp = np.linspace(puntosfijos[p]-epsilon, puntosfijos[p]+epsilon, n)\n",
        "    y_tmp = pendientes[p]*x_tmp+ordenadas[p]\n",
        "    plt.plot(x_tmp, y_tmp, 'r')\n",
        "    plt.arrow(x_tmp[-2], y_tmp[-2], x_tmp[-1]-x_tmp[-2], y_tmp[-1]-y_tmp[-2],\n",
        "              shape='full', color='r', lw=0, length_includes_head=True, head_width=.06)\n",
        "    plt.plot(puntosfijos[p], 0, marker='o',\n",
        "             markerfacecolor=markerfcolors[estabilidad[p]], markeredgecolor=markerecolors[estabilidad[p]])\n",
        "plt.show()"
      ]
    },
    {
      "cell_type": "code",
      "source": [
        "markerfcolors = ['w', 'r']\n",
        "markerecolors = ['r', 'r']\n",
        "xmarkerstyle = ['<', '>']\n",
        "plt.vlines(0, ymin=y.min(), ymax=y.max(), colors='k', ls='--', lw=1)\n",
        "plt.hlines(0, xmin=x.min(), xmax=x.max(), colors='k', ls='-', lw=1)\n",
        "plt.plot(x, y)\n",
        "\n",
        "for p in np.arange(len(puntosfijos)):\n",
        "    puntosfijos_sorted = np.sort(puntosfijos)\n",
        "    if puntosfijos_sorted[p] == puntosfijos_sorted.min():\n",
        "        x_markers_tmp = [x[0]+(puntosfijos_sorted[p]-x[0])/2]\n",
        "    elif puntosfijos_sorted[p] == puntosfijos_sorted.max():\n",
        "        x_markers_tmp = [x[-1]-(x[-1]-puntosfijos[p])/2]\n",
        "    else:\n",
        "        x_markers_tmp = [puntosfijos_sorted[p]-(puntosfijos_sorted[p]-puntosfijos_sorted[p-1])/2,\n",
        "                        puntosfijos_sorted[p]+(puntosfijos_sorted[p+1]-puntosfijos_sorted[p])/2]\n",
        "    plt.plot(puntosfijos[p], 0, marker='o',\n",
        "             markerfacecolor=markerfcolors[estabilidad[p]], markeredgecolor=markerecolors[estabilidad[p]])\n",
        "    for i in np.arange(len(x_markers_tmp)):\n",
        "        plt.plot(x_markers_tmp[i], 0, c='k', marker=xmarkerstyle[int(campovector(x_markers_tmp[i]) > 0)])\n",
        "plt.xlabel('$x$', fontsize=18)\n",
        "plt.ylabel('$f(x), \\dot{x}$', fontsize=18)\n",
        "plt.show()"
      ],
      "metadata": {
        "id": "8eZ9cs3DPaDj",
        "outputId": "4907f9bb-4be0-4a71-b0ea-600afac136b5",
        "colab": {
          "base_uri": "https://localhost:8080/",
          "height": 533
        }
      },
      "id": "8eZ9cs3DPaDj",
      "execution_count": 12,
      "outputs": [
        {
          "output_type": "stream",
          "name": "stderr",
          "text": [
            "<>:22: SyntaxWarning: invalid escape sequence '\\d'\n",
            "<>:22: SyntaxWarning: invalid escape sequence '\\d'\n",
            "/tmp/ipython-input-38233218.py:22: SyntaxWarning: invalid escape sequence '\\d'\n",
            "  plt.ylabel('$f(x), \\dot{x}$', fontsize=18)\n"
          ]
        },
        {
          "output_type": "display_data",
          "data": {
            "text/plain": [
              "<Figure size 640x480 with 1 Axes>"
            ],
            "image/png": "[encoded data removed]"
          },
          "metadata": {}
        }
      ]
    },
    {
      "cell_type": "markdown",
      "id": "69e4f2d6",
      "metadata": {
        "id": "69e4f2d6"
      },
      "source": [
        "# Cálculo de raíces de una función\n",
        "\n",
        "Para hallar los **puntos fijos**, resulta necesario encontrar los **ceros del campo vector**. Por lo tanto, en esta sección vamos a explorar algunos métodos numéricos para el **cálculo de raíces** de funciones."
      ]
    },
    {
      "cell_type": "markdown",
      "source": [
        "## Método de bisección\n",
        "\n",
        "El algoritmo más simple para encontrar raíces es el [método de bisección](https://en.wikipedia.org/wiki/Bisection_method). El algoritmo se aplica a cualquier función continua $f(x)$ en un intervalo $[a,b]$ donde el valor de la función $f(x)$ cambia de signo de $a$ a $b$. La idea es simple: dividir el intervalo en dos, debe existir una solución dentro de un subintervalo, seleccionar el subintervalo donde cambia el signo de $f(x)$ y repetir.\n",
        "\n",
        "El procedimiento del método de bisección es el siguiente:\n",
        "1. Elija un intervalo inicial $[a_0,b_0]$ tal que $f(a_0)f(b_0) < 0$\n",
        "2. Calcule $f(c_0)$ donde $c_0 = (a_0+b_0)/2$ es el punto medio\n",
        "3. Determine el siguiente subintervalo $[a_1,b_1]$:\n",
        "  1. Si $f(a_0)f(c_0) < 0$, entonces sea $[a_1,b_1]$ el siguiente intervalo con $a_1=a_0$ y $b_1=c_0$\n",
        "  2. Si $f(b_0)f(c_0) < 0$, entonces sea $[a_1,b_1]$ el siguiente intervalo con $a_1=c_0$ y $b_1=b_0$\n",
        "4. Repita (2) y (3) hasta un criterio de corte que puede ser: que el número de iteraciones N llegue a un número de iteraciones máximo predefinido $N_max$; que el intervalo $[a_N,b_N]$ alcance una longitud menor a una tolerancia $ϵ$ predeterminada $|b_N-a_N|<ϵ$; algún otro criterio\n",
        "5. Devuelva el valor del punto medio $c_N=(a_N+b_N)/2$.\n",
        "\n",
        "![raices_biseccion](https://raw.githubusercontent.com/HBocaccio/NumLabIMC/main/Colabs/images/1.raices_biseccion.png)\n",
        "\n",
        "El <a href=\"https://en.wikipedia.org/wiki/Intermediate_value_theorem\">Teorema del valor intermedio</a> garantiza una solución de la ecuación $f(x)=0$ en el intervalo $[a,b]$ siempre que $f(x)$ sea continua en $[a,b]$ y $f(a)f(b) < 0$. Es decir, la función cambia de signo en el intervalo y, por lo tanto, debe ser igual a 0 en algún punto del intervalo $[a,b]$.\n"
      ],
      "metadata": {
        "id": "1lmqkXU8QEK0"
      },
      "id": "1lmqkXU8QEK0"
    },
    {
      "cell_type": "markdown",
      "source": [
        "### Ejercicio 1\n",
        "\n",
        "Escriba una función llamada `biseccion` que tome 4 parámetros de entrada `f`, `a`, `b` y `N` y devuelva la aproximación de una solución de $f(x)=0$ dada por $N$ iteraciones del método de bisección.\n",
        "\n",
        "[Opcional extra] Si $f(a_n)f(b_n) > 0$ en cualquier punto de la iteración (causado ya sea por un intervalo inicial incorrecto o un error de redondeo en los cálculos), entonces imprima `\"El método de bisección falla\"` y devuelva `None`."
      ],
      "metadata": {
        "id": "N18P53xv8FHO"
      },
      "id": "N18P53xv8FHO"
    },
    {
      "cell_type": "code",
      "source": [
        "# # # COMPLETAR"
      ],
      "metadata": {
        "id": "UL1FkruVx_Lc"
      },
      "id": "UL1FkruVx_Lc",
      "execution_count": null,
      "outputs": []
    },
    {
      "cell_type": "code",
      "source": [
        "def biseccion(f,a,b,N):\n",
        "\n",
        "  if f(a)*f(b)>0:\n",
        "    print(\"El método de bisección falla\")\n",
        "    return None\n",
        "\n",
        "  c= (a + b) / 2\n",
        "\n",
        "\n",
        "  if N == 0:\n",
        "    print(\"f(c)=\"+str(f(c)))\n",
        "    print(\"c=\"+str((c)))\n",
        "\n",
        "    return c\n",
        "\n",
        "  if f(c)>= 0:\n",
        "    if f(a) < 0:\n",
        "      b=c\n",
        "    else:\n",
        "      a=c\n",
        "\n",
        "  else:\n",
        "    if f(a) < 0:\n",
        "      a=c\n",
        "    else:\n",
        "      b=c\n",
        "  return biseccion(f,a,b,N-1)\n",
        "\n",
        "\n",
        ""
      ],
      "metadata": {
        "id": "zqtzALA5qE5j"
      },
      "id": "zqtzALA5qE5j",
      "execution_count": 25,
      "outputs": []
    },
    {
      "cell_type": "code",
      "source": [],
      "metadata": {
        "id": "n_NhF1232xEr"
      },
      "id": "n_NhF1232xEr",
      "execution_count": null,
      "outputs": []
    },
    {
      "cell_type": "markdown",
      "source": [
        "### Ejercicio 2\n",
        "\n",
        "Ahora vamos a evaluar el código de nuestro método de bisección en la función `campovector` que definimos previamente ($f(x)=x-x^{3}$).\n",
        "\n",
        "Para pensar y probar:\n",
        "1. Cómo definiría las condiciones iniciales para encontrar cada punto fijo?\n",
        "2. Bajo que relación de las condiciones iniciales se puede encontrar la solución exacta con muy pocas iteraciones? [Hint: piense en cómo estimo mi solución probable en cada paso de la iteración]\n",
        "3. Elija una raíz conocida, brinde las condiciones iniciales adecuadas para encontrarla, y muestre como se va aproximando la estimación a medida que aumento el número de iteraciones. Haga el gráfico de solución en función del N.\n",
        "4. Qué sucede cuando pongo como condiciones iniciales [-1.5, 0.5]? Qué es lo que está pasando?\n",
        "5. Qué sucede cuando pongo como condiciones iniciales [-1.7, 1.5]? Qué es lo que está pasando?\n"
      ],
      "metadata": {
        "id": "KafmqUw-ZJbL"
      },
      "id": "KafmqUw-ZJbL"
    },
    {
      "cell_type": "code",
      "source": [
        "# # # COMPLETAR"
      ],
      "metadata": {
        "id": "NLGJYlszx5vI"
      },
      "id": "NLGJYlszx5vI",
      "execution_count": null,
      "outputs": []
    },
    {
      "cell_type": "code",
      "source": [
        "cond=[[-1.5,-0.5],[-0.5,0.5],[0.5,1.5]] #ELIJO ZONAS QUE ENCIERREN A LOS PUNTOS FIJOS\n",
        "\n",
        "\n",
        "for c in cond:\n",
        "  print(c[0])\n",
        "  print(c[1])\n",
        "\n",
        "  biseccion(campovector,c[0],c[1],10)\n",
        "\n",
        "print(\"\\n punto 4 en adelante:\")\n",
        "\n",
        "#4)\n",
        "biseccion(campovector,-1.5,0.5,10) #el metodo de biyeccion falla. Esto es ya que en el grafico podemos ver como la condicion inicial no se cumple (a y b > 0)\n",
        "\n",
        "\n",
        "\n",
        "\n"
      ],
      "metadata": {
        "id": "UGaqSaSsqHLq",
        "outputId": "512af4c8-7dce-4158-909a-195154fdd9b1",
        "colab": {
          "base_uri": "https://localhost:8080/"
        }
      },
      "id": "UGaqSaSsqHLq",
      "execution_count": 22,
      "outputs": [
        {
          "output_type": "stream",
          "name": "stdout",
          "text": [
            "-1.5\n",
            "-0.5\n",
            "f(c)=-0.0009758473606780171\n",
            "c=-0.99951171875\n",
            "-0.5\n",
            "0.5\n",
            "f(c)=-0.0004882811335846782\n",
            "c=-0.00048828125\n",
            "0.5\n",
            "1.5\n",
            "f(c)=-0.0009772778721526265\n",
            "c=1.00048828125\n",
            "\n",
            " punto 4 en adelante:\n",
            "El método de bisección falla\n",
            "\n",
            "f(c)=0.003132328033446985\n",
            "c=-1.0015625\n"
          ]
        },
        {
          "output_type": "execute_result",
          "data": {
            "text/plain": [
              "-1.0015625"
            ]
          },
          "metadata": {},
          "execution_count": 22
        }
      ]
    },
    {
      "cell_type": "code",
      "source": [
        "print(\"ACA ARRANCA FINAL TESTO\")\n",
        "#5)\n",
        "biseccion(campovector,-1.7,1.5,10) #depende de la cantidad de iteraciones, se acerca muy mal, ya que en el medio hay mas de 3 puntos fijos."
      ],
      "metadata": {
        "id": "kzJmSVLZ40UU",
        "outputId": "11db4f5c-d681-46f5-ba91-1073655d05ea",
        "colab": {
          "base_uri": "https://localhost:8080/"
        }
      },
      "id": "kzJmSVLZ40UU",
      "execution_count": 24,
      "outputs": [
        {
          "output_type": "stream",
          "name": "stdout",
          "text": [
            "ACA ARRANCA FINAL TESTO\n",
            "-0.09899999999999998\n",
            "-0.17100000000000015\n",
            "0.8969999999999994\n",
            "0.23099999999999965\n",
            "-2.220446049250313e-16\n",
            "0.10762499999999964\n",
            "0.051890624999999746\n",
            "0.025470703124999883\n",
            "0.012617431640624677\n",
            "0.00627932739257786\n",
            "0.003132328033446985\n",
            "f(c)=0.003132328033446985\n",
            "c=-1.0015625\n"
          ]
        },
        {
          "output_type": "execute_result",
          "data": {
            "text/plain": [
              "-1.0015625"
            ]
          },
          "metadata": {},
          "execution_count": 24
        }
      ]
    },
    {
      "cell_type": "markdown",
      "id": "1caf11cf",
      "metadata": {
        "id": "1caf11cf"
      },
      "source": [
        "## Método de Newton-Raphson"
      ]
    },
    {
      "cell_type": "markdown",
      "id": "91d3a8a3",
      "metadata": {
        "id": "91d3a8a3"
      },
      "source": [
        "El [método de Newton](https://en.wikipedia.org/wiki/Newton%27s_method) es un método de búsqueda de raíces que utiliza una aproximación lineal del desarrollo de Taylor. En particular, suponemos una solución $x^{*}$ de la ecuación $f(x)=0$, calculamos la aproximación lineal de $f(x)$ en $x^{*}$ y luego encontramos la intersección con el eje x de la aproximación lineal.\n",
        "\n",
        "Sea $f(x)$ una función diferenciable. Si $x_0$ está cerca de una solución de $f(x)=0$, entonces podemos aproximar $f(x)$ por la recta tangente en $x_0$ y calcular la intersección con el eje x de la recta tangente. La ecuación de la recta tangente en $x_0$ es\n",
        "\n",
        "$$\n",
        "y = f'(x_0)(x - x_0) + f(x_0)\n",
        "$$\n",
        "\n",
        "La intersección con el eje x es la solución $x_1$ de la ecuación\n",
        "\n",
        "$$\n",
        "0 = f'(x_0)(x_1 - x_0) + f(x_0)\n",
        "$$\n",
        "\n",
        "y resolvemos para $x_1$\n",
        "\n",
        "$$\n",
        "x_1 = x_0 - \\frac{f(x_0)}{f'(x_0)}\n",
        "$$\n",
        "\n",
        "Si implementamos este procedimiento repetidamente, obtenemos una secuencia dada por la fórmula recursiva\n",
        "\n",
        "$$\n",
        "x_{n+1} = x_n - \\frac{f(x_n)}{f'(x_n)}\n",
        "$$\n",
        "\n",
        "Al repetir el proceso, se crea un método iterativo que (potencialmente) converge a una solución de la ecuación $f(x)=0$. El proceso iterativo se repite hasta algún criterio de corte de manera similar al método de bisección, que puede ser: un número máximo de iteraciones; que el valor absoluto de la función evaluada en el último punto sea menor a una cierta tolerancia $ϵ$; algún otro criterio.\n",
        "\n",
        "![raices_newton](https://raw.githubusercontent.com/HBocaccio/NumLabIMC/main/Colabs/images/1.raices_newton.png)\n",
        "\n",
        "De la definición del método se destaca que el método puede no siempre converger. Particularmente, el método presentaría problemas cuando la derivada de la función evaluada en un punto, que resulta de algún paso de la iteración, es cero."
      ]
    },
    {
      "cell_type": "markdown",
      "source": [
        "Escribamos una función llamada `newton` que toma 5 parámetros de entrada `f`, `Df`, `x0`, `epsilon` y `max_iter` y devuelve una aproximación de una solución de $f(x)=0$ por el método de Newton. La función puede terminar de 3 maneras:\n",
        "\n",
        "1. Si `abs(f(xn)) < epsilon`, el algoritmo ha encontrado una solución aproximada y devuelve `xn`.\n",
        "2. Si `f'(xn) == 0`, el algoritmo se detiene y devuelve `None`.\n",
        "3. Si el número de iteraciones excede `max_iter`, el algoritmo se detiene y devuelve `None`."
      ],
      "metadata": {
        "id": "nFUXAw5BCO5_"
      },
      "id": "nFUXAw5BCO5_"
    },
    {
      "cell_type": "code",
      "source": [
        "def newton(f, Df, x0, epsilon, max_iter):\n",
        "    xn = x0\n",
        "    for n in range(0, max_iter):\n",
        "        fxn = f(xn)\n",
        "        if abs(fxn) < epsilon:\n",
        "            print('Se encontró solución luego de ',n,' iteraciones')\n",
        "            return xn\n",
        "        Dfxn = Df(xn)\n",
        "        if Dfxn == 0:\n",
        "            print('Problema de derivada nula')\n",
        "            return None\n",
        "        xn = xn - fxn/Dfxn\n",
        "    print('Se excedió el número de iteraciones máximo')\n",
        "    return None"
      ],
      "metadata": {
        "id": "t3HdpHbkCQ2w"
      },
      "id": "t3HdpHbkCQ2w",
      "execution_count": null,
      "outputs": []
    },
    {
      "cell_type": "markdown",
      "source": [
        "Evaluemos el método en el problema del **Ejercicio 2**. Para ello usamos la función `campovector` previamente definida ($f(x)=x-x^{3}$) y su derivada `campovectorprima` ($f'(x)=1-3x^{2}$).\n"
      ],
      "metadata": {
        "id": "gRoQ1qihCfNu"
      },
      "id": "gRoQ1qihCfNu"
    },
    {
      "cell_type": "markdown",
      "source": [
        "Veamos de buscar alguna raíz para alguna condición inicial y criterios de corte. Cómo pareciera ser la velocidad de convergencia respecto del método de bisección?"
      ],
      "metadata": {
        "id": "A3zsA7eMj4Ku"
      },
      "id": "A3zsA7eMj4Ku"
    },
    {
      "cell_type": "code",
      "source": [
        "newton(campovector, campovectorprima, 1.5, 0.0000001, 10)"
      ],
      "metadata": {
        "id": "rIRWjw8uj3uO"
      },
      "id": "rIRWjw8uj3uO",
      "execution_count": null,
      "outputs": []
    },
    {
      "cell_type": "markdown",
      "source": [
        "Veamos que pasa cuando definimos como condición inicial justo el punto en el que la derivada se anula"
      ],
      "metadata": {
        "id": "1chw38P7j3Mk"
      },
      "id": "1chw38P7j3Mk"
    },
    {
      "cell_type": "code",
      "source": [
        "newton(campovector, campovectorprima, 1/np.sqrt(3), 0.0000001, 10)"
      ],
      "metadata": {
        "id": "D7z3rmREjPoR"
      },
      "id": "D7z3rmREjPoR",
      "execution_count": null,
      "outputs": []
    },
    {
      "cell_type": "markdown",
      "source": [
        "Por qué no me da como respuesta que la derivada se anula?"
      ],
      "metadata": {
        "id": "WP2fEVhskFVX"
      },
      "id": "WP2fEVhskFVX"
    },
    {
      "cell_type": "code",
      "source": [
        "campovectorprima(1/np.sqrt(3))"
      ],
      "metadata": {
        "id": "Hu5_VPY0kLQm"
      },
      "id": "Hu5_VPY0kLQm",
      "execution_count": null,
      "outputs": []
    },
    {
      "cell_type": "markdown",
      "source": [
        "Qué pasa si le doy más iteraciones?"
      ],
      "metadata": {
        "id": "d7gM2__-kg0O"
      },
      "id": "d7gM2__-kg0O"
    },
    {
      "cell_type": "code",
      "source": [
        "newton(campovector, campovectorprima, 1/np.sqrt(3), 0.0000001, 100)"
      ],
      "metadata": {
        "id": "1i4gWIFdkhgs"
      },
      "id": "1i4gWIFdkhgs",
      "execution_count": null,
      "outputs": []
    },
    {
      "cell_type": "markdown",
      "source": [
        "**Cómo elijo las condiciones iniciales cuando no conozco las raíces?**\n",
        "\n",
        "En muchos casos no conozco las raíces reales, por lo que la elección de condiciones iniciales es todo un problema. Inclusive, puedo no saber cuántas raíces tiene la función.\n",
        "\n",
        "Una buena primera aproximación y muy informativa es lo que hicimos previamente, graficar la función en un dominio de valores de x. No obstante, una idea a segundo orden puede ser elegir valores aleatorios de condiciones iniciales en ese dominio. Esto es particularmente simple para el método de Newton-Raphson."
      ],
      "metadata": {
        "id": "pqbuqt1_szsM"
      },
      "id": "pqbuqt1_szsM"
    },
    {
      "cell_type": "code",
      "source": [
        "# x.shape\n",
        "np.random.seed(0) # Por repetibilidad\n",
        "condiciones_iniciales = np.random.choice(x, 20)\n",
        "soluciones = []\n",
        "for c in condiciones_iniciales:\n",
        "    soluciones.append(newton(campovector, campovectorprima, c, 0.0000001, 100))"
      ],
      "metadata": {
        "id": "_JuHseOIs0Yq"
      },
      "id": "_JuHseOIs0Yq",
      "execution_count": null,
      "outputs": []
    },
    {
      "cell_type": "markdown",
      "source": [
        "Veamos las distintas soluciones obtenidas. Se puede ver que con pocas elecciones aleatorias de condiciones iniciales encuentro todas las soluciones. Pero eso depende de la cantidad de soluciones posibles y del dominio elegido."
      ],
      "metadata": {
        "id": "wJZI3K6Wy2nV"
      },
      "id": "wJZI3K6Wy2nV"
    },
    {
      "cell_type": "code",
      "source": [
        "plt.plot(np.arange(len(soluciones))+1, soluciones, 'o')\n",
        "plt.xlabel('Corrida')\n",
        "plt.ylabel('Aproximación')\n",
        "plt.xticks(np.arange(0, len(soluciones)+1, 2))\n",
        "plt.show()"
      ],
      "metadata": {
        "id": "Q0y4eTqhtgbI"
      },
      "id": "Q0y4eTqhtgbI",
      "execution_count": null,
      "outputs": []
    },
    {
      "cell_type": "code",
      "source": [
        "np.unique(np.array(soluciones).round(2))"
      ],
      "metadata": {
        "id": "gSpkSLhszN8D"
      },
      "id": "gSpkSLhszN8D",
      "execution_count": null,
      "outputs": []
    },
    {
      "cell_type": "markdown",
      "source": [
        "Veamos cómo depende la solución obtenida de la condición inicial elegida"
      ],
      "metadata": {
        "id": "Zeh7w0_Qy6jt"
      },
      "id": "Zeh7w0_Qy6jt"
    },
    {
      "cell_type": "code",
      "source": [
        "plt.plot(condiciones_iniciales, soluciones, 'o', alpha=0.8)\n",
        "plt.xlabel('Condición inicial')\n",
        "plt.ylabel('Aproximación')\n",
        "plt.show()"
      ],
      "metadata": {
        "id": "-SRVS21wtnuB"
      },
      "id": "-SRVS21wtnuB",
      "execution_count": null,
      "outputs": []
    },
    {
      "cell_type": "markdown",
      "source": [
        "Se puede observar que en muchos casos hay regiones de condiciones iniciales que me llevan a converger a una cierta raíz. Sin embargo, en algunos casos puede pasar que la derivada de la función haga que para una cierta condición inicial en una cierta región me pase a otra región y termine convergiendo en otra raíz."
      ],
      "metadata": {
        "id": "gN8RzgaIvMgr"
      },
      "id": "gN8RzgaIvMgr"
    },
    {
      "cell_type": "markdown",
      "source": [
        "#### Ejercicio 3\n",
        "\n",
        "Resuelva el problema de búsqueda de la raíz para la función `campovectorlineal` ($f(x)=2x-4$) definida al principio del Colab, usando el método de Newton-Raphson para la condición inicial $x_0=1$. Tenga en cuenta que hay que definir la función `campovectorlinealprima` ($f'(x)=2$).\n",
        "1. Cuántas iteraciones necesité?\n",
        "2. Qué pasaría con otra condición inicial?"
      ],
      "metadata": {
        "id": "pBGsjUtvCzXE"
      },
      "id": "pBGsjUtvCzXE"
    },
    {
      "cell_type": "code",
      "source": [
        "# # # COMPLETAR"
      ],
      "metadata": {
        "id": "zQvwWc1pC-rE"
      },
      "id": "zQvwWc1pC-rE",
      "execution_count": null,
      "outputs": []
    },
    {
      "cell_type": "code",
      "source": [],
      "metadata": {
        "id": "pZgIRliuqJXz"
      },
      "id": "pZgIRliuqJXz",
      "execution_count": null,
      "outputs": []
    },
    {
      "cell_type": "markdown",
      "source": [
        "Cuántas iteraciones del método de bisección necesitaría para llegar a la misma solución usando como condición inicial el intervalo [1, 4]?"
      ],
      "metadata": {
        "id": "Z5qGH0XX3V9_"
      },
      "id": "Z5qGH0XX3V9_"
    },
    {
      "cell_type": "code",
      "source": [
        "N = np.arange(20)\n",
        "aprox = []\n",
        "for n in N:\n",
        "    aprox.append(biseccion(campovectorlineal, 1, 4, n))"
      ],
      "metadata": {
        "id": "FpzF6Mv51tMM"
      },
      "id": "FpzF6Mv51tMM",
      "execution_count": null,
      "outputs": []
    },
    {
      "cell_type": "code",
      "source": [
        "plt.plot(N+1, aprox)\n",
        "plt.xlabel('Iteraciones')\n",
        "plt.ylabel('Aproximación')\n",
        "plt.xticks(np.arange(0, len(N)+1, 2))\n",
        "plt.show()"
      ],
      "metadata": {
        "id": "D1OUlvvq2Hq8"
      },
      "id": "D1OUlvvq2Hq8",
      "execution_count": null,
      "outputs": []
    },
    {
      "cell_type": "markdown",
      "source": [
        "Más allá de este caso particular, en el que la función es lineal y por ende el método de Newton-Raphson converge de manera trivial a la solución en 1 iteración (la recta tangente en todo punto de la recta es la misma recta), en general este método es mucho más rápido (cuando converge) que el método de bisección."
      ],
      "metadata": {
        "id": "l_Y6-ow52e5H"
      },
      "id": "l_Y6-ow52e5H"
    },
    {
      "cell_type": "markdown",
      "source": [
        "## Método de la secante\n",
        "\n",
        "El [método de la secante](https://en.wikipedia.org/wiki/Secant_method) es muy similar al método de bisección, excepto que en lugar de dividir cada intervalo eligiendo el punto medio, el método de la secante divide cada intervalo por la línea secante que conecta los puntos finales. El método de la secante siempre converge a una raíz de $f(x)=0$ siempre que $f(x)$ sea continua en $[a,b]$ y $f(a)f(b)<0$.\n",
        "\n",
        "Sea $f(x)$ una función continua en un intervalo cerrado $[a,b]$ tal que $f(a)f(b) < 0$. Una solución de la ecuación $f(x) = 0$ para $x \\in [a,b]$ está garantizada por el [Teorema del valor intermedio](https://en.wikipedia.org/wiki/Intermediate_value_theorem). Considere la línea que conecta los valores de los puntos finales $(a,f(a))$ y $(b,f(b))$. La línea que une estos dos puntos se llama línea secante y se expresa mediante la fórmula\n",
        "\n",
        "$$\n",
        "y = \\frac{f(b) - f(a)}{b - a}(x - a) + f(a)\n",
        "$$\n",
        "\n",
        "El punto donde la línea secante cruza el eje $x$ es\n",
        "\n",
        "$$\n",
        "0 = \\frac{f(b) - f(a)}{b - a}(x - a) + f(a)\n",
        "$$\n",
        "\n",
        "que calculamos para $x$\n",
        "\n",
        "$$\n",
        "x = a - f(a)\\frac{b - a}{f(b) - f(a)}\n",
        "$$\n",
        "\n",
        "El procedimiento del método de la secante es casi idéntico al del método de bisección. La única diferencia es cómo dividimos cada subintervalo.\n",
        "1. Elija un intervalo inicial $[a_0,b_0]$ tal que $f(a_0)f(b_0) < 0$.\n",
        "2. Calcule $f(x_0)$ donde $x_0$ está dado por la recta secante.\n",
        "$$\n",
        "x_0 = a_0 - f(a_0)\\frac{b_0 - a_0}{f(b_0) - f(a_0)}\n",
        "$$\n",
        "3. Determine el siguiente subintervalo $[a_1,b_1]$:\n",
        "1. Si $f(a_0)f(x_0) < 0$, entonces sea $[a_1,b_1]$ el siguiente intervalo con $a_1=a_0$ y $b_1=x_0$.\n",
        "2. Si $f(b_0)f(x_0) < 0$, entonces sea $[a_1,b_1]$ el siguiente intervalo con $a_1=x_0$ y $b_1=b_0$.\n",
        "4. Repita (2) y (3) hasta que el intervalo $[a_N,b_N]$ alcance una longitud predeterminada.\n",
        "5. Devuelva el valor $x_N$, la intersección con el eje x del $N$ésimo subintervalo.\n",
        "\n",
        "El [Teorema del valor intermedio](https://en.wikipedia.org/wiki/Intermediate_value_theorem) garantiza una solución de la ecuación $f(x)=0$ en el intervalo $[a,b]$ siempre que $f(x)$ sea continua en $[a,b]$ y $f(a)f(b) < 0$. Es decir, la función cambia de signo en el intervalo y, por lo tanto, debe ser igual a 0 en algún punto del intervalo $[a,b]$.\n",
        "\n",
        "![raices_secante](https://raw.githubusercontent.com/HBocaccio/NumLabIMC/main/Colabs/images/1.raices_secante.png)"
      ],
      "metadata": {
        "id": "cruEztrC-1eu"
      },
      "id": "cruEztrC-1eu"
    },
    {
      "cell_type": "markdown",
      "source": [
        "Escribamos una función llamada `secante` que tome 4 parámetros de entrada `f`, `a`, `b` y `N` y devuelva la aproximación de una solución de $f(x)=0$ dada por $N$ iteraciones del método de la secante. Si $f(a_n)f(b_n) \\geq 0$ en cualquier punto de la iteración (causado ya sea por un intervalo inicial incorrecto o un error de redondeo en los cálculos), entonces imprima `\"El método de la secante falla\"` y devuelva `Ninguno`."
      ],
      "metadata": {
        "id": "DghsBU_H-5oW"
      },
      "id": "DghsBU_H-5oW"
    },
    {
      "cell_type": "code",
      "execution_count": null,
      "id": "41de4628",
      "metadata": {
        "id": "41de4628"
      },
      "outputs": [],
      "source": [
        "def secante(f, a, b, N):\n",
        "    if f(a)*f(b) >= 0:\n",
        "        print(\"El método de la secante falla\")\n",
        "        return None\n",
        "    a_n = a\n",
        "    b_n = b\n",
        "    for n in range(1,N+1):\n",
        "        c_n = a_n - f(a_n)*(b_n - a_n)/(f(b_n) - f(a_n))\n",
        "        f_c_n = f(c_n)\n",
        "        if f(a_n)*f_c_n < 0:\n",
        "            a_n = a_n\n",
        "            b_n = c_n\n",
        "        elif f(b_n)*f_c_n < 0:\n",
        "            a_n = c_n\n",
        "            b_n = b_n\n",
        "        elif f_c_n == 0:\n",
        "            print(\"Se encontró la solución exacta\")\n",
        "            return c_n\n",
        "        else:\n",
        "            print(\"El método de la secante falla\")\n",
        "            return None\n",
        "    return a_n - f(a_n)*(b_n - a_n)/(f(b_n) - f(a_n))"
      ]
    },
    {
      "cell_type": "markdown",
      "source": [
        "Evaluemos el método en el problema del **Ejercicio 2**. Para ello usamos la función `campovector` previamente definida ($f(x)=x-x^{3}$)."
      ],
      "metadata": {
        "id": "y7ImPrDn5KA7"
      },
      "id": "y7ImPrDn5KA7"
    },
    {
      "cell_type": "code",
      "execution_count": null,
      "id": "bd33be91",
      "metadata": {
        "id": "bd33be91"
      },
      "outputs": [],
      "source": [
        "secante(campovector, -1.7, -0.5, 100)"
      ]
    },
    {
      "cell_type": "markdown",
      "source": [
        "## Uso de scipy"
      ],
      "metadata": {
        "id": "XKDuji2w0jyN"
      },
      "id": "XKDuji2w0jyN"
    },
    {
      "cell_type": "markdown",
      "source": [
        "También podemos usar el paquete scipy que tiene funciones para encontrar la raíz usando el método de bisección con `scipy.optimize.bisect`, el método de Newton-Raphson con `scipy.optimize.newton` cuando se le da como variable de entrada la derivada en `fprime`, el método de la secante con `scipy.optimize.newton` cuando en la variable de entrada `fprime` ponemos `None`, entre otros."
      ],
      "metadata": {
        "id": "r4SW0IgP0jGd"
      },
      "id": "r4SW0IgP0jGd"
    },
    {
      "cell_type": "code",
      "source": [
        "import scipy.optimize as optimize"
      ],
      "metadata": {
        "id": "7Y0Y5vUoAuPB"
      },
      "id": "7Y0Y5vUoAuPB",
      "execution_count": null,
      "outputs": []
    },
    {
      "cell_type": "code",
      "source": [
        "# # # Bisección\n",
        "optimize.bisect(campovector, a=-1.7, b=-0.5)"
      ],
      "metadata": {
        "id": "1A1uyGYLAqcE"
      },
      "id": "1A1uyGYLAqcE",
      "execution_count": null,
      "outputs": []
    },
    {
      "cell_type": "code",
      "source": [
        "# # # Newton-Raphson\n",
        "optimize.newton(campovector, fprime=campovectorprima, x0=0.5)"
      ],
      "metadata": {
        "id": "p8UlqZ_uBUPu"
      },
      "id": "p8UlqZ_uBUPu",
      "execution_count": null,
      "outputs": []
    },
    {
      "cell_type": "code",
      "source": [
        "# # # Secante\n",
        "optimize.newton(campovector, fprime=None, x0=0.5)"
      ],
      "metadata": {
        "id": "Kn64gil5IGjj"
      },
      "id": "Kn64gil5IGjj",
      "execution_count": null,
      "outputs": []
    },
    {
      "cell_type": "markdown",
      "source": [
        "## Comparación de métodos"
      ],
      "metadata": {
        "id": "y5SuFNnW4StU"
      },
      "id": "y5SuFNnW4StU"
    },
    {
      "cell_type": "markdown",
      "source": [
        "Cuando converge, el método de Newton-Raphson suele hacerlo muy rápidamente y esta es su principal ventaja. Sin embargo, no se garantiza la convergencia del método y esto es obviamente una gran desventaja, especialmente en comparación con los métodos de bisección y de la secante, para los cuales sí se garantiza la convergencia a una solución (siempre que comiencen con un intervalo que contenga una raíz).\n",
        "\n",
        "El método de Newton-Raphson también requiere calcular valores de la derivada de la función en cuestión. Esto es potencialmente una desventaja si la derivada es difícil de calcular. En contraste, los métodos de bisección y de la secante no requieren del cálculo de la derivada.\n",
        "\n",
        "Los criterios de corte del método de Newton-Raphson suelen diferir de los de los métodos de bisección y de la secante. En esos métodos, sabemos lo cerca que estamos de una solución porque estamos calculando intervalos que contienen una solución. En el método de Newton-Raphson, no sabemos cuán cerca estamos de una solución. Todo lo que podemos calcular es el valor $f(x)$ y, por lo tanto, implementamos un criterio de corte basado en $f(x)$. Además, no hay garantía de que el método de Newthon-Raphson converja a una solución y debemos establecer un número máximo de iteraciones para que nuestra implementación finalice si no encontramos una solución."
      ],
      "metadata": {
        "id": "PXowqc3u-EfX"
      },
      "id": "PXowqc3u-EfX"
    },
    {
      "cell_type": "markdown",
      "source": [
        "**Ejemplo divergente de Newton-Raphson**\n",
        "\n",
        "El método de Newton-Raphson puede diverger en ciertos casos. Por ejemplo, si la línea tangente en la raíz es vertical como en $f(x)=x^{1/3}$. Tenga en cuenta que los métodos de bisección y secante convergerían en este caso."
      ],
      "metadata": {
        "id": "dHK8EWKv-aNX"
      },
      "id": "dHK8EWKv-aNX"
    },
    {
      "cell_type": "code",
      "execution_count": null,
      "metadata": {
        "id": "fba9c3fc"
      },
      "outputs": [],
      "source": [
        "# # # Acá incorporamos otra forma de definir funciones (handle of function)\n",
        "f = lambda x: x**(1/3)\n",
        "Df = lambda x: (1/3)*x**(-2/3)\n",
        "approx = newton(f, Df, 0.1, 1e-2, 100)"
      ],
      "id": "fba9c3fc"
    },
    {
      "cell_type": "markdown",
      "source": [
        "### Ejercicio 4\n",
        "\n",
        "Vamos a comparar ahora el tiempo de convergencia de los métodos de bisección, de Newton-Raphson, y de la secante. Para eso hagan varias corridas de cada método en la resolución de la busqueda de la raíz de la función $f(x)=xe^x-1$ en el dominio entre -1 y 1, con inicialización aleatoria, y calculen el tiempo que tarda cada método en cada corrida. Para cada método guarden esos tiempos en una variable, y después comparen entre métodos.\n",
        "\n",
        "Para el cálculo de los tiempos usen el paquete `time`. Una forma de calcular el tiempo de un proceso es la siguiente:\n",
        "\n",
        "    start = time.time()\n",
        "    ... acá el proceso\n",
        "    elapsed = (time.time() - start)\n"
      ],
      "metadata": {
        "id": "RbfcImj8yKk9"
      },
      "id": "RbfcImj8yKk9"
    },
    {
      "cell_type": "code",
      "source": [
        "import time"
      ],
      "metadata": {
        "id": "OgeAUYeaNQAX"
      },
      "id": "OgeAUYeaNQAX",
      "execution_count": null,
      "outputs": []
    },
    {
      "cell_type": "code",
      "source": [
        "# # # COMPLETAR"
      ],
      "metadata": {
        "id": "EwzMq0y5yLU0"
      },
      "execution_count": null,
      "outputs": [],
      "id": "EwzMq0y5yLU0"
    },
    {
      "cell_type": "code",
      "source": [],
      "metadata": {
        "id": "kXEEIx7WqP_C"
      },
      "id": "kXEEIx7WqP_C",
      "execution_count": null,
      "outputs": []
    },
    {
      "cell_type": "markdown",
      "source": [
        "**Convergencia**\n",
        "\n",
        "Podemos ver el orden de convergencia de los distintos métodos. Para destacar, el método de bisección se dice que tiene convergencia lineal, Newton-Raphson tiene convergencia cuadrática (por lo que es más rápido), y el método de la secante tiene convergencia superlineal (está entre los dos métodos anteriores)."
      ],
      "metadata": {
        "id": "uxyqbS-qJv6X"
      },
      "id": "uxyqbS-qJv6X"
    },
    {
      "cell_type": "code",
      "source": [
        "# Definir una función ejemplo: f(x) = x^3 - x - 2\n",
        "def f(x):\n",
        "    return x**3 - x - 2\n",
        "\n",
        "# Derivada de la función (para Newton-Raphson)\n",
        "def df(x):\n",
        "    return 3*x**2 - 1\n",
        "\n",
        "# Parámetros iniciales\n",
        "a, b = 1, 2\n",
        "x0 = 1.5\n",
        "x1 = 1.6\n",
        "tol = 1e-10\n",
        "maxiter = 100\n",
        "\n",
        "# Almacenar los errores en cada iteración\n",
        "errors_bisect = []\n",
        "errors_newton = []\n",
        "errors_secant = []\n",
        "\n",
        "# Valor de la raíz verdadera utilizando alta precisión (para referencia)\n",
        "root_true = optimize.bisect(f, a, b, xtol=tol)\n",
        "\n",
        "# Simular iteraciones con diferentes tolerancias\n",
        "for i in np.arange(1, 10, 0.5):\n",
        "    tol_iter = float(10)**(-i)\n",
        "    root_bisect = optimize.bisect(f, a, b, xtol=tol_iter, maxiter=maxiter)\n",
        "    root_newton = optimize.newton(f, x0, fprime=df, tol=tol_iter, maxiter=maxiter)\n",
        "    root_secant = optimize.newton(f, x0, tol=tol_iter, maxiter=maxiter)\n",
        "\n",
        "    # Calcular y almacenar los errores\n",
        "    errors_bisect.append(abs(root_bisect - root_true))\n",
        "    errors_newton.append(abs(root_newton - root_true))\n",
        "    errors_secant.append(abs(root_secant - root_true))\n",
        "\n",
        "\n",
        "plt.figure(figsize=(10, 6))\n",
        "plt.plot(range(1, len(errors_bisect) + 1), errors_bisect, label=\"Bisección (Lineal)\", marker='o')\n",
        "plt.plot(range(1, len(errors_newton) + 1), errors_newton, label=\"Newton-Raphson (Cuadrática)\", marker='o')\n",
        "plt.plot(range(1, len(errors_secant) + 1), errors_secant, label=\"Secante (Superlineal)\", marker='o')\n",
        "plt.yscale('log')\n",
        "plt.xscale('log')\n",
        "plt.xlabel('Iteraciones simuladas (tolerancia decreciente)')\n",
        "plt.ylabel('Error absoluto')\n",
        "plt.title('Log-Log: Convergencia de métodos numéricos para la búsqueda de raíces')\n",
        "plt.legend()\n",
        "plt.grid(True)\n",
        "plt.show()"
      ],
      "metadata": {
        "id": "Hxu-pCzILxn5"
      },
      "id": "Hxu-pCzILxn5",
      "execution_count": null,
      "outputs": []
    },
    {
      "cell_type": "markdown",
      "source": [
        "# Búsqueda de puntos fijos\n",
        "\n",
        "Ahora, podemos aplicar estos métodos numéricos para el cálculo de puntos fijos en distintos sistemas dinámicos 1D, ya que son las raíces de los campos vectores."
      ],
      "metadata": {
        "id": "EOLQ4Uyk_dWb"
      },
      "id": "EOLQ4Uyk_dWb"
    },
    {
      "cell_type": "markdown",
      "source": [
        "## Ejercicio 5\n",
        "\n",
        "Hagamos el análisis gráfico del flujo del sistema 1D definido por la ecuación:\n",
        "\n",
        "$$\\dot{x} = e^{x} − \\cos{(𝑥)}$$\n",
        "\n",
        "Para eso, definamos las funciones para el campo vector y su derivada"
      ],
      "metadata": {
        "id": "EwcHR3r6JpnN"
      },
      "id": "EwcHR3r6JpnN"
    },
    {
      "cell_type": "code",
      "source": [
        "campovector_1e = lambda x: np.exp(x) - np.cos(x)\n",
        "campovectorprima_1e = lambda x: np.exp(x) + np.sin(x)"
      ],
      "metadata": {
        "id": "oY2iHXVI8KBJ"
      },
      "id": "oY2iHXVI8KBJ",
      "execution_count": null,
      "outputs": []
    },
    {
      "cell_type": "markdown",
      "source": [
        "1. Elijan un dominio (tengan en cuenta que el término exponencial se hace muy grande para valores positivos no tan grandes)\n",
        "2. Grafiquen la exponencial y el menos coseno, y vean las intersecciones\n",
        "3. Hagan el gráfico del campo vector\n",
        "4. Busquen los puntos fijos usando distintos métodos y condiciones iniciales. a) Elegir 100 condiciones iniciales aleatorias y calcular las soluciones. b) Graficar las soluciones en función de la condición inicial. Qué comportamiento se observa? c) Cómo son las soluciones aproximadas a partir de redondear los resultados previos a 2 dígitos?"
      ],
      "metadata": {
        "id": "tZ4zhAZ-8Lrd"
      },
      "id": "tZ4zhAZ-8Lrd"
    },
    {
      "cell_type": "code",
      "source": [
        "# # # COMPLETAR"
      ],
      "metadata": {
        "id": "s86SQ2Ut9ftI"
      },
      "id": "s86SQ2Ut9ftI",
      "execution_count": null,
      "outputs": []
    },
    {
      "cell_type": "markdown",
      "source": [
        "## Ejercicio 6\n",
        "\n",
        "Podemos plantear un método automatizado para el cálculo de raíces que aplique lo visto en esta clase. Para ello, vamos a definir una función de Python llamada `root_finder` que calcule las raíces de una función `f` en un conjunto de valores de `x` haciendo una exploración para N inicializaciones y usando alguna de las opciones dentro de scipy, y reporte las soluciones. Consideren incorporar distintas variables de entrada según les parezca adecuado. Por ejemplo, pueden poner un argumento `seed` que me defina una semilla de numpy para elegir las inicializaciones aleatorias.\n",
        "\n",
        "Tengan en cuenta que muchas de las soluciones pueden repetirse. Entonces, dentro de la función, vamos a quedarnos con los valores únicos usando `np.unique`. Cabe destacar que para que esta función las considere la misma solución deben ser el mismo número de máquina. Qué se les ocurre que se podría hacer si se trata de la misma solución pero que difiere en algunos decimales poco significativos?\n",
        "\n",
        "Finalmente, prueben la función que definieron en la aplicación a la búsqueda de los puntos fijos del sistema definido por $\\dot{r} = r(r-1)$."
      ],
      "metadata": {
        "id": "H4DHnA3jYMdX"
      },
      "id": "H4DHnA3jYMdX"
    },
    {
      "cell_type": "code",
      "source": [
        "# COMPLETAR"
      ],
      "metadata": {
        "id": "RqmH4WWjYM7_"
      },
      "id": "RqmH4WWjYM7_",
      "execution_count": null,
      "outputs": []
    },
    {
      "cell_type": "code",
      "source": [],
      "metadata": {
        "id": "FCPb0y4e_Jn_"
      },
      "id": "FCPb0y4e_Jn_",
      "execution_count": null,
      "outputs": []
    }
  ],
  "metadata": {
    "kernelspec": {
      "display_name": "Python 3 (ipykernel)",
      "language": "python",
      "name": "python3"
    },
    "language_info": {
      "codemirror_mode": {
        "name": "ipython",
        "version": 3
      },
      "file_extension": ".py",
      "mimetype": "text/x-python",
      "name": "python",
      "nbconvert_exporter": "python",
      "pygments_lexer": "ipython3",
      "version": "3.10.9"
    },
    "colab": {
      "provenance": [],
      "toc_visible": true,
      "include_colab_link": true
    }
  },
  "nbformat": 4,
  "nbformat_minor": 5
}